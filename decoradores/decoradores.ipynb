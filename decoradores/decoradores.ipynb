{
 "cells": [
  {
   "cell_type": "code",
   "execution_count": 1,
   "id": "92ca8e43-b10d-4f07-9d2a-761fa652983a",
   "metadata": {},
   "outputs": [],
   "source": [
    "def hola():\n",
    "    def bienvenido():\n",
    "        return \"Hola\"\n",
    "    return bienvenido\n"
   ]
  },
  {
   "cell_type": "code",
   "execution_count": 2,
   "id": "99b7a29f-7cbe-4127-befc-86e89e99ba53",
   "metadata": {},
   "outputs": [
    {
     "data": {
      "text/plain": [
       "<function __main__.hola.<locals>.bienvenido()>"
      ]
     },
     "execution_count": 2,
     "metadata": {},
     "output_type": "execute_result"
    }
   ],
   "source": [
    "hola()"
   ]
  },
  {
   "cell_type": "code",
   "execution_count": 3,
   "id": "94096a87-60cb-45d2-a135-4cd78a959345",
   "metadata": {},
   "outputs": [
    {
     "data": {
      "text/plain": [
       "'Hola'"
      ]
     },
     "execution_count": 3,
     "metadata": {},
     "output_type": "execute_result"
    }
   ],
   "source": [
    "hola()()"
   ]
  },
  {
   "cell_type": "code",
   "execution_count": 4,
   "id": "5e10994b-5c19-46d3-ac66-3a6460ebfda9",
   "metadata": {},
   "outputs": [
    {
     "data": {
      "text/plain": [
       "'Hola'"
      ]
     },
     "execution_count": 4,
     "metadata": {},
     "output_type": "execute_result"
    }
   ],
   "source": [
    "variable = hola()\n",
    "variable()"
   ]
  },
  {
   "cell_type": "code",
   "execution_count": 5,
   "id": "c9fe589c-3aa3-45ed-8ba5-9ea681d87b2c",
   "metadata": {},
   "outputs": [],
   "source": [
    "def funcion_principal():\n",
    "    def funcion_interna():\n",
    "        return \"Parametro Interno\"\n",
    "    return funcion_interna"
   ]
  },
  {
   "cell_type": "code",
   "execution_count": 6,
   "id": "ecb52a2a-6b7c-4411-a49c-4496894ed37a",
   "metadata": {},
   "outputs": [
    {
     "data": {
      "text/plain": [
       "<function __main__.funcion_principal.<locals>.funcion_interna()>"
      ]
     },
     "execution_count": 6,
     "metadata": {},
     "output_type": "execute_result"
    }
   ],
   "source": [
    "funcion_principal()"
   ]
  },
  {
   "cell_type": "code",
   "execution_count": 7,
   "id": "ac1911b6-8460-43dd-81c1-28f92fbaa6b2",
   "metadata": {},
   "outputs": [
    {
     "data": {
      "text/plain": [
       "'Parametro Interno'"
      ]
     },
     "execution_count": 7,
     "metadata": {},
     "output_type": "execute_result"
    }
   ],
   "source": [
    "funcion_principal()()"
   ]
  },
  {
   "cell_type": "code",
   "execution_count": 8,
   "id": "69106221-7975-4212-8d18-43675c116e1e",
   "metadata": {},
   "outputs": [],
   "source": [
    "var = funcion_principal()"
   ]
  },
  {
   "cell_type": "code",
   "execution_count": 9,
   "id": "8a5d6d76-8a6b-4fb1-bd8e-3b1b662d190c",
   "metadata": {},
   "outputs": [
    {
     "data": {
      "text/plain": [
       "<function __main__.funcion_principal.<locals>.funcion_interna()>"
      ]
     },
     "execution_count": 9,
     "metadata": {},
     "output_type": "execute_result"
    }
   ],
   "source": [
    "var"
   ]
  },
  {
   "cell_type": "code",
   "execution_count": 10,
   "id": "c03a9589-abbf-4565-84ee-1cb83c516502",
   "metadata": {},
   "outputs": [
    {
     "data": {
      "text/plain": [
       "'Parametro Interno'"
      ]
     },
     "execution_count": 10,
     "metadata": {},
     "output_type": "execute_result"
    }
   ],
   "source": [
    "var()"
   ]
  },
  {
   "cell_type": "code",
   "execution_count": 11,
   "id": "b73696d4-9ccb-4801-88dd-d3535d9744d3",
   "metadata": {},
   "outputs": [],
   "source": [
    "del(funcion_principal)"
   ]
  },
  {
   "cell_type": "code",
   "execution_count": 12,
   "id": "cf520a8e-3b73-4d76-8a85-079e7c4c8c9e",
   "metadata": {},
   "outputs": [
    {
     "data": {
      "text/plain": [
       "'Parametro Interno'"
      ]
     },
     "execution_count": 12,
     "metadata": {},
     "output_type": "execute_result"
    }
   ],
   "source": [
    "var()"
   ]
  },
  {
   "cell_type": "code",
   "execution_count": 14,
   "id": "192ae5c2-2c21-4b59-911c-3a1fffdfd068",
   "metadata": {},
   "outputs": [],
   "source": [
    "def hola():\n",
    "    print(\"hola\")\n",
    "def adios():\n",
    "    print(\"adios\")"
   ]
  },
  {
   "cell_type": "code",
   "execution_count": 21,
   "id": "a7bfa9fa-d45a-41fd-ad45-995a7fd04b9e",
   "metadata": {},
   "outputs": [],
   "source": [
    "def monitorizar(funcion):\n",
    "    def decorar():\n",
    "        print(\"\\t Se esta apunto de ejecutar la funcion:\", funcion.__name__)\n",
    "        funcion()\n",
    "        print(\"\\t Se ha finalizado la ejecucion funcion:\", funcion.__name__)\n",
    "\n",
    "    return decorar"
   ]
  },
  {
   "cell_type": "code",
   "execution_count": 25,
   "id": "c52af3c9-93ae-4d85-994c-75455e9197dd",
   "metadata": {},
   "outputs": [
    {
     "name": "stdout",
     "output_type": "stream",
     "text": [
      "\t Se esta apunto de ejecutar la funcion: hola\n",
      "hola\n",
      "\t Se ha finalizado la ejecucion funcion: hola\n"
     ]
    }
   ],
   "source": [
    "monitorizar(hola)()"
   ]
  },
  {
   "cell_type": "code",
   "execution_count": 26,
   "id": "43814908-8864-4e74-893f-65b3c53e9f16",
   "metadata": {},
   "outputs": [],
   "source": [
    "@monitorizar\n",
    "def hola():\n",
    "    print(\"hola\")\n",
    "\n",
    "@monitorizar\n",
    "def adios():\n",
    "    print(\"adios\")"
   ]
  },
  {
   "cell_type": "code",
   "execution_count": 27,
   "id": "81cabb8d-9575-4eee-9251-dfa6034faaf5",
   "metadata": {},
   "outputs": [
    {
     "name": "stdout",
     "output_type": "stream",
     "text": [
      "\t Se esta apunto de ejecutar la funcion: hola\n",
      "hola\n",
      "\t Se ha finalizado la ejecucion funcion: hola\n"
     ]
    }
   ],
   "source": [
    "hola()"
   ]
  },
  {
   "cell_type": "code",
   "execution_count": 28,
   "id": "5ae6376f-8ac4-4256-b942-d3e3a8a8ec0e",
   "metadata": {},
   "outputs": [],
   "source": [
    "@monitorizar\n",
    "def saluda():\n",
    "    print(\"BUENOS DIAS!\")"
   ]
  },
  {
   "cell_type": "code",
   "execution_count": 29,
   "id": "849ebece-073e-47b6-bb79-3a907b4c83f3",
   "metadata": {},
   "outputs": [
    {
     "name": "stdout",
     "output_type": "stream",
     "text": [
      "\t Se esta apunto de ejecutar la funcion: saluda\n",
      "BUENOS DIAS!\n",
      "\t Se ha finalizado la ejecucion funcion: saluda\n"
     ]
    }
   ],
   "source": [
    "saluda()"
   ]
  },
  {
   "cell_type": "code",
   "execution_count": 39,
   "id": "324e18fc-74b4-4fdd-bb8b-a99ad0c3a158",
   "metadata": {},
   "outputs": [],
   "source": [
    "def monitorizar_args(funcion):\n",
    "    def decorar(*args, **kwargs):\n",
    "        print(\"\\t Se esta apunto de ejecutar la funcion:\", funcion.__name__)\n",
    "        funcion(*args, **kwargs)\n",
    "        print(\"\\t Se ha finalizado la ejecucion funcion:\", funcion.__name__)\n",
    "\n",
    "    return decorar"
   ]
  },
  {
   "cell_type": "code",
   "execution_count": 40,
   "id": "01254446-4359-43bf-a30a-2b17c9284553",
   "metadata": {},
   "outputs": [],
   "source": [
    "@monitorizar_args\n",
    "def hola(nombre):\n",
    "    print(\"hola {}\".format(nombre))\n",
    "\n",
    "@monitorizar_args\n",
    "def adios(nombre):\n",
    "    print(\"adios {}\".format(nombre))"
   ]
  },
  {
   "cell_type": "code",
   "execution_count": 41,
   "id": "a05d71d5-76db-43be-ba41-af6f89b0ef84",
   "metadata": {},
   "outputs": [
    {
     "name": "stdout",
     "output_type": "stream",
     "text": [
      "\t Se esta apunto de ejecutar la funcion: hola\n",
      "hola Emilio\n",
      "\t Se ha finalizado la ejecucion funcion: hola\n"
     ]
    }
   ],
   "source": [
    "hola(\"Emilio\")"
   ]
  },
  {
   "cell_type": "code",
   "execution_count": null,
   "id": "2a7a4d8e-ae3a-4a03-804f-b3ebbca97d8d",
   "metadata": {},
   "outputs": [],
   "source": []
  }
 ],
 "metadata": {
  "kernelspec": {
   "display_name": "Python 3 (ipykernel)",
   "language": "python",
   "name": "python3"
  },
  "language_info": {
   "codemirror_mode": {
    "name": "ipython",
    "version": 3
   },
   "file_extension": ".py",
   "mimetype": "text/x-python",
   "name": "python",
   "nbconvert_exporter": "python",
   "pygments_lexer": "ipython3",
   "version": "3.11.2"
  }
 },
 "nbformat": 4,
 "nbformat_minor": 5
}
