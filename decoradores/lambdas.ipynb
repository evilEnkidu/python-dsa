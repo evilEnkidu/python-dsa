{
 "cells": [
  {
   "cell_type": "code",
   "execution_count": 3,
   "id": "94118432-2a04-40d8-ac0b-1310da0325b7",
   "metadata": {},
   "outputs": [],
   "source": [
    "def doblar(num):\n",
    "    resultado = num*2\n",
    "    return resultado"
   ]
  },
  {
   "cell_type": "code",
   "execution_count": 4,
   "id": "480fd3b7-99e8-44f6-9610-4af8f391cfc2",
   "metadata": {},
   "outputs": [
    {
     "data": {
      "text/plain": [
       "10"
      ]
     },
     "execution_count": 4,
     "metadata": {},
     "output_type": "execute_result"
    }
   ],
   "source": [
    "doblar(5)"
   ]
  },
  {
   "cell_type": "code",
   "execution_count": 5,
   "id": "37bd24e1-8e28-4cff-8733-34cf2ef88c1b",
   "metadata": {},
   "outputs": [],
   "source": [
    "def doblar(num):\n",
    "    return num*2"
   ]
  },
  {
   "cell_type": "code",
   "execution_count": 6,
   "id": "cf7cf430-b92d-41ab-87b2-abfd0ecc09ff",
   "metadata": {},
   "outputs": [
    {
     "data": {
      "text/plain": [
       "4"
      ]
     },
     "execution_count": 6,
     "metadata": {},
     "output_type": "execute_result"
    }
   ],
   "source": [
    "doblar(2)"
   ]
  },
  {
   "cell_type": "code",
   "execution_count": 7,
   "id": "025af085-f5f6-4a4a-ab92-55529e3b61cc",
   "metadata": {},
   "outputs": [
    {
     "data": {
      "text/plain": [
       "<function __main__.<lambda>(num)>"
      ]
     },
     "execution_count": 7,
     "metadata": {},
     "output_type": "execute_result"
    }
   ],
   "source": [
    "lambda num: num**2"
   ]
  },
  {
   "cell_type": "code",
   "execution_count": 8,
   "id": "b64a1f85-9999-4489-8d48-1ae35ac8c6c5",
   "metadata": {},
   "outputs": [],
   "source": [
    "doblar = lambda num: num*2"
   ]
  },
  {
   "cell_type": "code",
   "execution_count": 9,
   "id": "a77567cf-391c-47c5-9a54-03c649283275",
   "metadata": {},
   "outputs": [
    {
     "data": {
      "text/plain": [
       "4"
      ]
     },
     "execution_count": 9,
     "metadata": {},
     "output_type": "execute_result"
    }
   ],
   "source": [
    "doblar(2)"
   ]
  },
  {
   "cell_type": "code",
   "execution_count": 10,
   "id": "ffe30e40-4350-42f8-a17b-89659979eec0",
   "metadata": {},
   "outputs": [
    {
     "data": {
      "text/plain": [
       "200"
      ]
     },
     "execution_count": 10,
     "metadata": {},
     "output_type": "execute_result"
    }
   ],
   "source": [
    "doblar(100)"
   ]
  },
  {
   "cell_type": "code",
   "execution_count": 11,
   "id": "a06f588d-d471-4519-a79b-838db3024586",
   "metadata": {},
   "outputs": [],
   "source": [
    "impar = lambda num: num%2 != 0"
   ]
  },
  {
   "cell_type": "code",
   "execution_count": 12,
   "id": "a36b67d6-5bff-406b-9012-da3bb3712290",
   "metadata": {},
   "outputs": [
    {
     "data": {
      "text/plain": [
       "True"
      ]
     },
     "execution_count": 12,
     "metadata": {},
     "output_type": "execute_result"
    }
   ],
   "source": [
    "impar(5)"
   ]
  },
  {
   "cell_type": "code",
   "execution_count": 13,
   "id": "dafb2dee-069f-4358-b7fd-d5394e8b3ce9",
   "metadata": {},
   "outputs": [],
   "source": [
    "revertir = lambda cadena: cadena[::-1]"
   ]
  },
  {
   "cell_type": "code",
   "execution_count": 14,
   "id": "9a29f8ac-b073-4520-8a35-91b7dd672801",
   "metadata": {},
   "outputs": [
    {
     "data": {
      "text/plain": [
       "'aloH'"
      ]
     },
     "execution_count": 14,
     "metadata": {},
     "output_type": "execute_result"
    }
   ],
   "source": [
    "revertir(\"Hola\")"
   ]
  },
  {
   "cell_type": "code",
   "execution_count": 15,
   "id": "f7bb1fab-dbd2-492a-ac2d-66e8d8b3eead",
   "metadata": {},
   "outputs": [],
   "source": [
    "sumar = lambda x,y: x+y"
   ]
  },
  {
   "cell_type": "code",
   "execution_count": 16,
   "id": "fb78952f-8ee4-4d65-90bc-11ef803351e4",
   "metadata": {},
   "outputs": [
    {
     "data": {
      "text/plain": [
       "2"
      ]
     },
     "execution_count": 16,
     "metadata": {},
     "output_type": "execute_result"
    }
   ],
   "source": [
    "sumar(1,1)"
   ]
  },
  {
   "cell_type": "code",
   "execution_count": null,
   "id": "745d6823-7b61-4468-9530-b411365e8fc9",
   "metadata": {},
   "outputs": [],
   "source": []
  }
 ],
 "metadata": {
  "kernelspec": {
   "display_name": "Python 3 (ipykernel)",
   "language": "python",
   "name": "python3"
  },
  "language_info": {
   "codemirror_mode": {
    "name": "ipython",
    "version": 3
   },
   "file_extension": ".py",
   "mimetype": "text/x-python",
   "name": "python",
   "nbconvert_exporter": "python",
   "pygments_lexer": "ipython3",
   "version": "3.11.2"
  }
 },
 "nbformat": 4,
 "nbformat_minor": 5
}
